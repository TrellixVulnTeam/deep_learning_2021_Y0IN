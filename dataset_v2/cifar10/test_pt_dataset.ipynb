{
 "metadata": {
  "language_info": {
   "codemirror_mode": {
    "name": "ipython",
    "version": 3
   },
   "file_extension": ".py",
   "mimetype": "text/x-python",
   "name": "python",
   "nbconvert_exporter": "python",
   "pygments_lexer": "ipython3",
   "version": "3.8.8"
  },
  "orig_nbformat": 2,
  "kernelspec": {
   "name": "python388jvsc74a57bd07195adc5b324da57c4ae5a289d8eec99dcc545f096998ea52b63cfda2645aaed",
   "display_name": "Python 3.8.8 64-bit ('torch': conda)"
  }
 },
 "nbformat": 4,
 "nbformat_minor": 2,
 "cells": [
  {
   "cell_type": "code",
   "execution_count": 1,
   "metadata": {},
   "outputs": [],
   "source": [
    "import torch"
   ]
  },
  {
   "cell_type": "code",
   "execution_count": 2,
   "metadata": {},
   "outputs": [],
   "source": [
    "## Parameters\n",
    "seed = 11\n",
    "torch.manual_seed(seed)\n",
    "device = torch.device(\"cuda\" if torch.cuda.is_available() else \"cpu\")\n",
    "n_epochs = 2\n",
    "batch_size = 512"
   ]
  },
  {
   "cell_type": "code",
   "execution_count": 4,
   "metadata": {},
   "outputs": [
    {
     "output_type": "error",
     "ename": "ImportError",
     "evalue": "attempted relative import with no known parent package",
     "traceback": [
      "\u001b[0;31m---------------------------------------------------------------------------\u001b[0m",
      "\u001b[0;31mImportError\u001b[0m                               Traceback (most recent call last)",
      "\u001b[0;32m<ipython-input-4-a30fabf718e6>\u001b[0m in \u001b[0;36m<module>\u001b[0;34m\u001b[0m\n\u001b[1;32m      2\u001b[0m \u001b[0;32mimport\u001b[0m \u001b[0mcifar10\u001b[0m\u001b[0;34m\u001b[0m\u001b[0;34m\u001b[0m\u001b[0m\n\u001b[1;32m      3\u001b[0m \u001b[0;31m# from pt_modules import pt_dataloader\u001b[0m\u001b[0;34m\u001b[0m\u001b[0;34m\u001b[0m\u001b[0;34m\u001b[0m\u001b[0m\n\u001b[0;32m----> 4\u001b[0;31m \u001b[0;32mfrom\u001b[0m \u001b[0;34m.\u001b[0m\u001b[0;34m.\u001b[0m\u001b[0mpt_modules\u001b[0m \u001b[0;32mimport\u001b[0m \u001b[0mpt_dataloader\u001b[0m\u001b[0;34m\u001b[0m\u001b[0;34m\u001b[0m\u001b[0m\n\u001b[0m\u001b[1;32m      5\u001b[0m \u001b[0;34m\u001b[0m\u001b[0m\n\u001b[1;32m      6\u001b[0m \u001b[0;34m\u001b[0m\u001b[0m\n",
      "\u001b[0;31mImportError\u001b[0m: attempted relative import with no known parent package"
     ]
    }
   ],
   "source": [
    "## Dataset\n",
    "import cifar10\n",
    "from pt_modules import pt_dataloader\n",
    "\n",
    "train_data, test_data = cifar10.load_data()\n",
    "train_data, valid_data = cifar10.split_data(train_data, split_ratio=0.8)\n",
    "classes = cifar10.load_classes()\n",
    "\n",
    "train_loader = pt_dataloader(train_data, batch_size, training=True)\n",
    "valid_loader = pt_dataloader(valid_data, batch_size, training=False)\n",
    "test_loader  = pt_dataloader(test_data,  batch_size, training=False)"
   ]
  },
  {
   "cell_type": "code",
   "execution_count": 4,
   "metadata": {},
   "outputs": [],
   "source": [
    "## Model\n",
    "from pt_modules import ConvClassifier\n",
    "\n",
    "model = ConvClassifier(output_size=10).to(device)\n",
    "loss_fn = torch.nn.NLLLoss()\n",
    "optim = torch.optim.Adam(model.parameters())"
   ]
  },
  {
   "cell_type": "code",
   "execution_count": 5,
   "metadata": {},
   "outputs": [
    {
     "output_type": "display_data",
     "data": {
      "text/plain": "[1/79]   1%|1          [00:00<?]",
      "application/vnd.jupyter.widget-view+json": {
       "version_major": 2,
       "version_minor": 0,
       "model_id": "6a844d080b7b4b1f981efd1c0dd226e4"
      }
     },
     "metadata": {}
    },
    {
     "output_type": "stream",
     "name": "stdout",
     "text": [
      "Epoch [  1/  2] >> train_loss = 1.0401, valid_loss = 1.3091, lowest_loss = 1.3091 @epoch = 1\n"
     ]
    },
    {
     "output_type": "display_data",
     "data": {
      "text/plain": "[1/79]   1%|1          [00:00<?]",
      "application/vnd.jupyter.widget-view+json": {
       "version_major": 2,
       "version_minor": 0,
       "model_id": "167c249f342542d6a69fa056ef7df692"
      }
     },
     "metadata": {}
    },
    {
     "output_type": "stream",
     "name": "stdout",
     "text": [
      "Epoch [  2/  2] >> train_loss = 0.9658, valid_loss = 1.0929, lowest_loss = 1.0929 @epoch = 2\n"
     ]
    }
   ],
   "source": [
    "## Train - [1] Ignite trainer\n",
    "from pt_modules import IgniteTrainer\n",
    "\n",
    "trainer = IgniteTrainer(model, optim, loss_fn)\n",
    "trainer.fit(train_loader, valid_loader, n_epochs)"
   ]
  },
  {
   "cell_type": "code",
   "execution_count": 6,
   "metadata": {},
   "outputs": [
    {
     "output_type": "stream",
     "name": "stdout",
     "text": [
      "Training  10% [  8/ 79] train_loss: 0.8359\n",
      "Training  20% [ 16/ 79] train_loss: 0.8035\n",
      "Training  30% [ 24/ 79] train_loss: 0.8779\n",
      "Training  41% [ 32/ 79] train_loss: 0.8459\n",
      "Training  51% [ 40/ 79] train_loss: 0.8569\n",
      "Training  59% [ 47/ 79] train_loss: 0.8044\n",
      "Training  70% [ 55/ 79] train_loss: 0.8146\n",
      "Training  80% [ 63/ 79] train_loss: 0.9019\n",
      "Training  90% [ 71/ 79] train_loss: 0.8434\n",
      "Training 100% [ 79/ 79] train_loss: 1.0384\n",
      "Epoch [  1/  2] >> train_loss = 0.8356, valid_loss = 0.9240, lowest_loss = 0.9240 @epoch = 1\n",
      "Training  10% [  8/ 79] train_loss: 0.7012\n",
      "Training  20% [ 16/ 79] train_loss: 0.6551\n",
      "Training  30% [ 24/ 79] train_loss: 0.6029\n",
      "Training  41% [ 32/ 79] train_loss: 0.6068\n",
      "Training  51% [ 40/ 79] train_loss: 0.6123\n",
      "Training  59% [ 47/ 79] train_loss: 0.7109\n",
      "Training  70% [ 55/ 79] train_loss: 0.7016\n",
      "Training  80% [ 63/ 79] train_loss: 0.5738\n",
      "Training  90% [ 71/ 79] train_loss: 0.6735\n",
      "Training 100% [ 79/ 79] train_loss: 0.3925\n",
      "Epoch [  2/  2] >> train_loss = 0.6420, valid_loss = 0.8503, lowest_loss = 0.8503 @epoch = 2\n"
     ]
    }
   ],
   "source": [
    "## Train - [2] Manual trainer\n",
    "from pt_modules import ManualTrainer\n",
    "\n",
    "trainer = ManualTrainer(model, optim, loss_fn)\n",
    "trainer.fit(train_loader, valid_loader, n_epochs)"
   ]
  },
  {
   "cell_type": "code",
   "execution_count": 7,
   "metadata": {},
   "outputs": [
    {
     "output_type": "stream",
     "name": "stdout",
     "text": [
      ">> test_loss  = 0.8722, test_acc  = 0.7046\n"
     ]
    }
   ],
   "source": [
    "## Test\n",
    "from pt_modules import accuracy, average\n",
    "\n",
    "test_loss = average(loss_fn, model, test_loader)\n",
    "test_acc  = average(accuracy, model, test_loader)\n",
    "print(\">> test_loss  = %.4f, test_acc  = %.4f\" % (test_loss, test_acc))"
   ]
  }
 ]
}